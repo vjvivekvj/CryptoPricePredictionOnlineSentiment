{
  "nbformat": 4,
  "nbformat_minor": 0,
  "metadata": {
    "colab": {
      "name": "ruleset_generation.ipynb",
      "provenance": [],
      "collapsed_sections": []
    },
    "kernelspec": {
      "name": "python3",
      "display_name": "Python 3"
    },
    "language_info": {
      "name": "python"
    }
  },
  "cells": [
    {
      "cell_type": "code",
      "metadata": {
        "id": "CxSOcM8FOCpE"
      },
      "source": [
        "import pandas as pd"
      ],
      "execution_count": 1,
      "outputs": []
    },
    {
      "cell_type": "code",
      "metadata": {
        "id": "y0U-uvNiOGdL"
      },
      "source": [
        "df = pd.read_csv(\"labelled_dataset.csv\")"
      ],
      "execution_count": 3,
      "outputs": []
    },
    {
      "cell_type": "code",
      "metadata": {
        "colab": {
          "base_uri": "https://localhost:8080/",
          "height": 203
        },
        "id": "jSsHWmxKQNIn",
        "outputId": "e8a76ad5-d513-42e6-b6ea-ab0f7a47edf1"
      },
      "source": [
        "df.head()"
      ],
      "execution_count": 12,
      "outputs": [
        {
          "output_type": "execute_result",
          "data": {
            "text/html": [
              "<div>\n",
              "<style scoped>\n",
              "    .dataframe tbody tr th:only-of-type {\n",
              "        vertical-align: middle;\n",
              "    }\n",
              "\n",
              "    .dataframe tbody tr th {\n",
              "        vertical-align: top;\n",
              "    }\n",
              "\n",
              "    .dataframe thead th {\n",
              "        text-align: right;\n",
              "    }\n",
              "</style>\n",
              "<table border=\"1\" class=\"dataframe\">\n",
              "  <thead>\n",
              "    <tr style=\"text-align: right;\">\n",
              "      <th></th>\n",
              "      <th>CHANGE</th>\n",
              "      <th>LABELLED_MEAN</th>\n",
              "      <th>LABELLED_MEDIAN</th>\n",
              "    </tr>\n",
              "  </thead>\n",
              "  <tbody>\n",
              "    <tr>\n",
              "      <th>0</th>\n",
              "      <td>0</td>\n",
              "      <td>2</td>\n",
              "      <td>2</td>\n",
              "    </tr>\n",
              "    <tr>\n",
              "      <th>1</th>\n",
              "      <td>-1</td>\n",
              "      <td>2</td>\n",
              "      <td>2</td>\n",
              "    </tr>\n",
              "    <tr>\n",
              "      <th>2</th>\n",
              "      <td>1</td>\n",
              "      <td>2</td>\n",
              "      <td>2</td>\n",
              "    </tr>\n",
              "    <tr>\n",
              "      <th>3</th>\n",
              "      <td>1</td>\n",
              "      <td>2</td>\n",
              "      <td>2</td>\n",
              "    </tr>\n",
              "    <tr>\n",
              "      <th>4</th>\n",
              "      <td>-1</td>\n",
              "      <td>2</td>\n",
              "      <td>2</td>\n",
              "    </tr>\n",
              "  </tbody>\n",
              "</table>\n",
              "</div>"
            ],
            "text/plain": [
              "   CHANGE  LABELLED_MEAN  LABELLED_MEDIAN\n",
              "0       0              2                2\n",
              "1      -1              2                2\n",
              "2       1              2                2\n",
              "3       1              2                2\n",
              "4      -1              2                2"
            ]
          },
          "metadata": {
            "tags": []
          },
          "execution_count": 12
        }
      ]
    },
    {
      "cell_type": "code",
      "metadata": {
        "id": "1pxtPLgvKGtV"
      },
      "source": [
        "from sklearn import tree\n",
        "model = tree.DecisionTreeClassifier()"
      ],
      "execution_count": 4,
      "outputs": []
    },
    {
      "cell_type": "code",
      "metadata": {
        "id": "D9ZSSy3HNpQe"
      },
      "source": [
        "inputs = df.drop('CHANGE', axis='columns')\n",
        "target = df['CHANGE']"
      ],
      "execution_count": 5,
      "outputs": []
    },
    {
      "cell_type": "code",
      "metadata": {
        "colab": {
          "base_uri": "https://localhost:8080/"
        },
        "id": "wVVwBQORKKgR",
        "outputId": "9a33acc0-4d21-4358-9b92-24cfdf42a28f"
      },
      "source": [
        "model.fit(inputs, target)"
      ],
      "execution_count": 8,
      "outputs": [
        {
          "output_type": "execute_result",
          "data": {
            "text/plain": [
              "DecisionTreeClassifier(ccp_alpha=0.0, class_weight=None, criterion='gini',\n",
              "                       max_depth=None, max_features=None, max_leaf_nodes=None,\n",
              "                       min_impurity_decrease=0.0, min_impurity_split=None,\n",
              "                       min_samples_leaf=1, min_samples_split=2,\n",
              "                       min_weight_fraction_leaf=0.0, presort='deprecated',\n",
              "                       random_state=None, splitter='best')"
            ]
          },
          "metadata": {
            "tags": []
          },
          "execution_count": 8
        }
      ]
    },
    {
      "cell_type": "code",
      "metadata": {
        "colab": {
          "base_uri": "https://localhost:8080/"
        },
        "id": "_0rHNRZ4Oghr",
        "outputId": "b68b50eb-caa6-4e01-bdbb-da95c17a3e7a"
      },
      "source": [
        "model.score(inputs,target)"
      ],
      "execution_count": 10,
      "outputs": [
        {
          "output_type": "execute_result",
          "data": {
            "text/plain": [
              "0.5166498486377397"
            ]
          },
          "metadata": {
            "tags": []
          },
          "execution_count": 10
        }
      ]
    },
    {
      "cell_type": "code",
      "metadata": {
        "id": "H4syL7-iJb3S"
      },
      "source": [
        "from sklearn.tree import _tree\n",
        "\n",
        "def tree_to_code(tree, feature_names):\n",
        "    tree_ = tree.tree_\n",
        "    feature_name = [\n",
        "        feature_names[i] if i != _tree.TREE_UNDEFINED else \"undefined!\"\n",
        "        for i in tree_.feature\n",
        "    ]\n",
        "    print(\"def tree(\" + \", \".join(feature_names) + \"):\")\n",
        "    #print \"def tree({}):\".format(\", \".join(feature_names))\n",
        "\n",
        "    def recurse(node, depth):\n",
        "        indent = \"  \" * depth\n",
        "        if tree_.feature[node] != _tree.TREE_UNDEFINED:\n",
        "            name = feature_name[node]\n",
        "            threshold = tree_.threshold[node]\n",
        "            print(f\"{indent}if {name} <= {threshold}:\")\n",
        "           #print \"{}if {} <= {}:\".format(indent, name, threshold)\n",
        "            recurse(tree_.children_left[node], depth + 1)\n",
        "            print(f\"{indent}else: # if {name} > {threshold}\")\n",
        "            #print \"{}else:  # if {} > {}\".format(indent, name, threshold)\n",
        "            recurse(tree_.children_right[node], depth + 1)\n",
        "        else:\n",
        "            print(f\"{indent}return {tree_.value[node]}\")\n",
        "            #print \"{}return {}\".format(indent, tree_.value[node])\n",
        "\n",
        "    recurse(0, 1)"
      ],
      "execution_count": 9,
      "outputs": []
    },
    {
      "cell_type": "code",
      "metadata": {
        "colab": {
          "base_uri": "https://localhost:8080/"
        },
        "id": "ssIflp67OVVc",
        "outputId": "2433fe49-d949-4983-8ee1-489e74b5c9c3"
      },
      "source": [
        "tree_to_code(model, ['LABELLED_MEAN','LABELLED_MEDIAN'])"
      ],
      "execution_count": 13,
      "outputs": [
        {
          "output_type": "stream",
          "text": [
            "def tree(LABELLED_MEAN, LABELLED_MEDIAN):\n",
            "  if LABELLED_MEAN <= 2.5:\n",
            "    if LABELLED_MEDIAN <= 3.5:\n",
            "      if LABELLED_MEDIAN <= 1.5:\n",
            "        if LABELLED_MEDIAN <= 0.5:\n",
            "          if LABELLED_MEAN <= 0.5:\n",
            "            return [[5. 0. 3.]]\n",
            "          else: # if LABELLED_MEAN > 0.5\n",
            "            return [[2. 0. 1.]]\n",
            "        else: # if LABELLED_MEDIAN > 0.5\n",
            "          if LABELLED_MEAN <= 1.5:\n",
            "            return [[17.  0. 15.]]\n",
            "          else: # if LABELLED_MEAN > 1.5\n",
            "            return [[9. 0. 7.]]\n",
            "      else: # if LABELLED_MEDIAN > 1.5\n",
            "        if LABELLED_MEDIAN <= 2.5:\n",
            "          if LABELLED_MEAN <= 1.5:\n",
            "            return [[12.  0. 16.]]\n",
            "          else: # if LABELLED_MEAN > 1.5\n",
            "            return [[383.  12. 395.]]\n",
            "        else: # if LABELLED_MEDIAN > 2.5\n",
            "          return [[309.   0. 297.]]\n",
            "    else: # if LABELLED_MEDIAN > 3.5\n",
            "      return [[0. 0. 1.]]\n",
            "  else: # if LABELLED_MEAN > 2.5\n",
            "    if LABELLED_MEAN <= 3.5:\n",
            "      if LABELLED_MEDIAN <= 2.5:\n",
            "        return [[27.  0. 34.]]\n",
            "      else: # if LABELLED_MEDIAN > 2.5\n",
            "        if LABELLED_MEDIAN <= 3.5:\n",
            "          return [[9.350e+02 1.000e+00 1.009e+03]]\n",
            "        else: # if LABELLED_MEDIAN > 3.5\n",
            "          return [[158.   0. 171.]]\n",
            "    else: # if LABELLED_MEAN > 3.5\n",
            "      if LABELLED_MEDIAN <= 3.5:\n",
            "        return [[4. 0. 5.]]\n",
            "      else: # if LABELLED_MEDIAN > 3.5\n",
            "        return [[61.  0. 75.]]\n"
          ],
          "name": "stdout"
        }
      ]
    }
  ]
}
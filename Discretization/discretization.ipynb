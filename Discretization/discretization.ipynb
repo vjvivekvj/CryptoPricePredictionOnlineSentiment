{
  "nbformat": 4,
  "nbformat_minor": 0,
  "metadata": {
    "colab": {
      "name": "discretization.ipynb",
      "provenance": [],
      "toc_visible": true
    },
    "kernelspec": {
      "name": "python3",
      "display_name": "Python 3"
    },
    "language_info": {
      "name": "python"
    }
  },
  "cells": [
    {
      "cell_type": "code",
      "metadata": {
        "id": "L7y_WTKEFpT-"
      },
      "source": [
        "import pandas as pd"
      ],
      "execution_count": 43,
      "outputs": []
    },
    {
      "cell_type": "markdown",
      "metadata": {
        "id": "RvxX9a_cKe8C"
      },
      "source": [
        "Read Dataset"
      ]
    },
    {
      "cell_type": "code",
      "metadata": {
        "colab": {
          "base_uri": "https://localhost:8080/",
          "height": 203
        },
        "id": "Y2baYbelGBLz",
        "outputId": "d2df1942-3e32-4e3e-8265-7a87d577cf70"
      },
      "source": [
        "df = pd.read_csv(\"transformed_dataset.csv\")\n",
        "df.head()"
      ],
      "execution_count": 44,
      "outputs": [
        {
          "output_type": "execute_result",
          "data": {
            "text/html": [
              "<div>\n",
              "<style scoped>\n",
              "    .dataframe tbody tr th:only-of-type {\n",
              "        vertical-align: middle;\n",
              "    }\n",
              "\n",
              "    .dataframe tbody tr th {\n",
              "        vertical-align: top;\n",
              "    }\n",
              "\n",
              "    .dataframe thead th {\n",
              "        text-align: right;\n",
              "    }\n",
              "</style>\n",
              "<table border=\"1\" class=\"dataframe\">\n",
              "  <thead>\n",
              "    <tr style=\"text-align: right;\">\n",
              "      <th></th>\n",
              "      <th>BTC_PRICE</th>\n",
              "      <th>COUNT</th>\n",
              "      <th>MEAN</th>\n",
              "      <th>MEDIAN</th>\n",
              "      <th>SUM</th>\n",
              "      <th>Timestamp</th>\n",
              "      <th>CHANGE</th>\n",
              "    </tr>\n",
              "  </thead>\n",
              "  <tbody>\n",
              "    <tr>\n",
              "      <th>0</th>\n",
              "      <td>10219.03</td>\n",
              "      <td>1680</td>\n",
              "      <td>0.17</td>\n",
              "      <td>0.14</td>\n",
              "      <td>287.79</td>\n",
              "      <td>2/13/2020 20:47</td>\n",
              "      <td>0</td>\n",
              "    </tr>\n",
              "    <tr>\n",
              "      <th>1</th>\n",
              "      <td>10181.00</td>\n",
              "      <td>1635</td>\n",
              "      <td>0.17</td>\n",
              "      <td>0.15</td>\n",
              "      <td>285.62</td>\n",
              "      <td>2/13/2020 21:59</td>\n",
              "      <td>-1</td>\n",
              "    </tr>\n",
              "    <tr>\n",
              "      <th>2</th>\n",
              "      <td>10215.92</td>\n",
              "      <td>1658</td>\n",
              "      <td>0.20</td>\n",
              "      <td>0.20</td>\n",
              "      <td>331.28</td>\n",
              "      <td>2/13/2020 22:59</td>\n",
              "      <td>1</td>\n",
              "    </tr>\n",
              "    <tr>\n",
              "      <th>3</th>\n",
              "      <td>10247.34</td>\n",
              "      <td>1417</td>\n",
              "      <td>0.20</td>\n",
              "      <td>0.20</td>\n",
              "      <td>290.43</td>\n",
              "      <td>2/13/2020 23:59</td>\n",
              "      <td>1</td>\n",
              "    </tr>\n",
              "    <tr>\n",
              "      <th>4</th>\n",
              "      <td>10225.00</td>\n",
              "      <td>1377</td>\n",
              "      <td>0.18</td>\n",
              "      <td>0.18</td>\n",
              "      <td>241.29</td>\n",
              "      <td>2/14/2020 0:59</td>\n",
              "      <td>-1</td>\n",
              "    </tr>\n",
              "  </tbody>\n",
              "</table>\n",
              "</div>"
            ],
            "text/plain": [
              "   BTC_PRICE  COUNT  MEAN  MEDIAN     SUM        Timestamp  CHANGE\n",
              "0   10219.03   1680  0.17    0.14  287.79  2/13/2020 20:47       0\n",
              "1   10181.00   1635  0.17    0.15  285.62  2/13/2020 21:59      -1\n",
              "2   10215.92   1658  0.20    0.20  331.28  2/13/2020 22:59       1\n",
              "3   10247.34   1417  0.20    0.20  290.43  2/13/2020 23:59       1\n",
              "4   10225.00   1377  0.18    0.18  241.29   2/14/2020 0:59      -1"
            ]
          },
          "metadata": {
            "tags": []
          },
          "execution_count": 44
        }
      ]
    },
    {
      "cell_type": "markdown",
      "metadata": {
        "id": "RQj5F2QDKjfe"
      },
      "source": [
        "Initialize Bins"
      ]
    },
    {
      "cell_type": "code",
      "metadata": {
        "id": "T2RArB7Ji9mN"
      },
      "source": [
        "bins = [-1, 0, 0.12, 0.22, 0.30, 1] \n",
        "group_names = ['very low', 'low', 'med', 'high', 'very high']"
      ],
      "execution_count": 45,
      "outputs": []
    },
    {
      "cell_type": "markdown",
      "metadata": {
        "id": "qGCnLLIlKmHU"
      },
      "source": [
        "Create Discretized Data"
      ]
    },
    {
      "cell_type": "code",
      "metadata": {
        "id": "QjVoBkk9_880"
      },
      "source": [
        "df['mean_groups'] = pd.cut(df['MEAN'], bins, labels=group_names)\n",
        "df['median_groups'] = pd.cut(df['MEDIAN'], bins, labels=group_names)"
      ],
      "execution_count": 46,
      "outputs": []
    },
    {
      "cell_type": "code",
      "metadata": {
        "id": "qS1joGR3dgxq"
      },
      "source": [
        "df = df.drop('Timestamp', axis='columns')\n",
        "df = df.drop('BTC_PRICE', axis='columns')\n",
        "df = df.drop('SUM', axis='columns')\n",
        "df = df.drop('COUNT', axis='columns')\n",
        "#ignoring sum count for now"
      ],
      "execution_count": 47,
      "outputs": []
    },
    {
      "cell_type": "markdown",
      "metadata": {
        "id": "jUSL0RtcKwH6"
      },
      "source": [
        "Discretized data frame"
      ]
    },
    {
      "cell_type": "code",
      "metadata": {
        "colab": {
          "base_uri": "https://localhost:8080/",
          "height": 203
        },
        "id": "13Jy-P1QAfsK",
        "outputId": "24e0bfc5-a6d4-473d-d52a-bc1469a74ab1"
      },
      "source": [
        "df.head()"
      ],
      "execution_count": 48,
      "outputs": [
        {
          "output_type": "execute_result",
          "data": {
            "text/html": [
              "<div>\n",
              "<style scoped>\n",
              "    .dataframe tbody tr th:only-of-type {\n",
              "        vertical-align: middle;\n",
              "    }\n",
              "\n",
              "    .dataframe tbody tr th {\n",
              "        vertical-align: top;\n",
              "    }\n",
              "\n",
              "    .dataframe thead th {\n",
              "        text-align: right;\n",
              "    }\n",
              "</style>\n",
              "<table border=\"1\" class=\"dataframe\">\n",
              "  <thead>\n",
              "    <tr style=\"text-align: right;\">\n",
              "      <th></th>\n",
              "      <th>MEAN</th>\n",
              "      <th>MEDIAN</th>\n",
              "      <th>CHANGE</th>\n",
              "      <th>mean_groups</th>\n",
              "      <th>median_groups</th>\n",
              "    </tr>\n",
              "  </thead>\n",
              "  <tbody>\n",
              "    <tr>\n",
              "      <th>0</th>\n",
              "      <td>0.17</td>\n",
              "      <td>0.14</td>\n",
              "      <td>0</td>\n",
              "      <td>med</td>\n",
              "      <td>med</td>\n",
              "    </tr>\n",
              "    <tr>\n",
              "      <th>1</th>\n",
              "      <td>0.17</td>\n",
              "      <td>0.15</td>\n",
              "      <td>-1</td>\n",
              "      <td>med</td>\n",
              "      <td>med</td>\n",
              "    </tr>\n",
              "    <tr>\n",
              "      <th>2</th>\n",
              "      <td>0.20</td>\n",
              "      <td>0.20</td>\n",
              "      <td>1</td>\n",
              "      <td>med</td>\n",
              "      <td>med</td>\n",
              "    </tr>\n",
              "    <tr>\n",
              "      <th>3</th>\n",
              "      <td>0.20</td>\n",
              "      <td>0.20</td>\n",
              "      <td>1</td>\n",
              "      <td>med</td>\n",
              "      <td>med</td>\n",
              "    </tr>\n",
              "    <tr>\n",
              "      <th>4</th>\n",
              "      <td>0.18</td>\n",
              "      <td>0.18</td>\n",
              "      <td>-1</td>\n",
              "      <td>med</td>\n",
              "      <td>med</td>\n",
              "    </tr>\n",
              "  </tbody>\n",
              "</table>\n",
              "</div>"
            ],
            "text/plain": [
              "   MEAN  MEDIAN  CHANGE mean_groups median_groups\n",
              "0  0.17    0.14       0         med           med\n",
              "1  0.17    0.15      -1         med           med\n",
              "2  0.20    0.20       1         med           med\n",
              "3  0.20    0.20       1         med           med\n",
              "4  0.18    0.18      -1         med           med"
            ]
          },
          "metadata": {
            "tags": []
          },
          "execution_count": 48
        }
      ]
    },
    {
      "cell_type": "markdown",
      "metadata": {
        "id": "XYbuUJgdLRoW"
      },
      "source": [
        "Exporting the discretized data"
      ]
    },
    {
      "cell_type": "code",
      "metadata": {
        "id": "QX8-lWKlLVOT"
      },
      "source": [
        "df = df.drop('MEAN', axis='columns')\n",
        "df = df.drop('MEDIAN', axis='columns')"
      ],
      "execution_count": 49,
      "outputs": []
    },
    {
      "cell_type": "code",
      "metadata": {
        "id": "fEBxBYOhLjkB"
      },
      "source": [
        "df.to_csv (r'discretized_dataset.csv', index = False, header=True)"
      ],
      "execution_count": 51,
      "outputs": []
    },
    {
      "cell_type": "markdown",
      "metadata": {
        "id": "9ad-awkdPFWd"
      },
      "source": [
        "# **LABELLING THE DATASET**"
      ]
    },
    {
      "cell_type": "code",
      "metadata": {
        "id": "A1649-wPA8qL"
      },
      "source": [
        "#from sklearn.preprocessing import OneHotEncoder"
      ],
      "execution_count": 37,
      "outputs": []
    },
    {
      "cell_type": "markdown",
      "metadata": {
        "id": "GefWQff4Lx5v"
      },
      "source": [
        "Read the discretized data "
      ]
    },
    {
      "cell_type": "code",
      "metadata": {
        "id": "98fLNBDPHM4e"
      },
      "source": [
        ""
      ],
      "execution_count": 38,
      "outputs": []
    },
    {
      "cell_type": "markdown",
      "metadata": {
        "id": "X8nhckgJMJeR"
      },
      "source": [
        "Label the data fields mean_groups and median_groups"
      ]
    },
    {
      "cell_type": "code",
      "metadata": {
        "id": "XzD_w4dWMV58"
      },
      "source": [
        "inputs = df_n.drop('CHANGE', axis='columns')"
      ],
      "execution_count": 39,
      "outputs": []
    },
    {
      "cell_type": "code",
      "metadata": {
        "colab": {
          "base_uri": "https://localhost:8080/",
          "height": 203
        },
        "id": "WDfLw6Mnu3uK",
        "outputId": "5a03b1ba-edee-4f51-9e79-9429a2fea893"
      },
      "source": [
        "inputs.head()"
      ],
      "execution_count": 40,
      "outputs": [
        {
          "output_type": "execute_result",
          "data": {
            "text/html": [
              "<div>\n",
              "<style scoped>\n",
              "    .dataframe tbody tr th:only-of-type {\n",
              "        vertical-align: middle;\n",
              "    }\n",
              "\n",
              "    .dataframe tbody tr th {\n",
              "        vertical-align: top;\n",
              "    }\n",
              "\n",
              "    .dataframe thead th {\n",
              "        text-align: right;\n",
              "    }\n",
              "</style>\n",
              "<table border=\"1\" class=\"dataframe\">\n",
              "  <thead>\n",
              "    <tr style=\"text-align: right;\">\n",
              "      <th></th>\n",
              "      <th>mean_groups</th>\n",
              "      <th>median_groups</th>\n",
              "    </tr>\n",
              "  </thead>\n",
              "  <tbody>\n",
              "    <tr>\n",
              "      <th>0</th>\n",
              "      <td>low</td>\n",
              "      <td>very low</td>\n",
              "    </tr>\n",
              "    <tr>\n",
              "      <th>1</th>\n",
              "      <td>low</td>\n",
              "      <td>very low</td>\n",
              "    </tr>\n",
              "    <tr>\n",
              "      <th>2</th>\n",
              "      <td>low</td>\n",
              "      <td>low</td>\n",
              "    </tr>\n",
              "    <tr>\n",
              "      <th>3</th>\n",
              "      <td>low</td>\n",
              "      <td>low</td>\n",
              "    </tr>\n",
              "    <tr>\n",
              "      <th>4</th>\n",
              "      <td>low</td>\n",
              "      <td>low</td>\n",
              "    </tr>\n",
              "  </tbody>\n",
              "</table>\n",
              "</div>"
            ],
            "text/plain": [
              "  mean_groups median_groups\n",
              "0         low      very low\n",
              "1         low      very low\n",
              "2         low           low\n",
              "3         low           low\n",
              "4         low           low"
            ]
          },
          "metadata": {
            "tags": []
          },
          "execution_count": 40
        }
      ]
    },
    {
      "cell_type": "code",
      "metadata": {
        "id": "YnfzllLmvlRQ"
      },
      "source": [
        "#df_n.isnull().values.sum()\n",
        "df_n = df.dropna()"
      ],
      "execution_count": 42,
      "outputs": []
    },
    {
      "cell_type": "code",
      "metadata": {
        "id": "YcF8S1fuM1ri"
      },
      "source": [
        "inputs = OneHotEncoder().fit_transform(inputs)"
      ],
      "execution_count": null,
      "outputs": []
    },
    {
      "cell_type": "code",
      "metadata": {
        "id": "0OzQ9ywoxT_l"
      },
      "source": [
        ""
      ],
      "execution_count": null,
      "outputs": []
    },
    {
      "cell_type": "code",
      "metadata": {
        "id": "xkddb2Q0GydE"
      },
      "source": [
        "df_n.to_csv (r'labelled_dataset.csv', index = False, header=True)"
      ],
      "execution_count": null,
      "outputs": []
    }
  ]
}